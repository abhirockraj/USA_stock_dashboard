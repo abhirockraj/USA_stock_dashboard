{
 "cells": [
  {
   "cell_type": "code",
   "execution_count": 1,
   "id": "8a8e76b5",
   "metadata": {},
   "outputs": [],
   "source": [
    "import yfinance as yf\n",
    "import pandas as pd\n",
    "import matplotlib.pyplot as plt\n",
    "import numpy as np"
   ]
  },
  {
   "cell_type": "code",
   "execution_count": 2,
   "id": "d0d5de79",
   "metadata": {},
   "outputs": [
    {
     "name": "stdout",
     "output_type": "stream",
     "text": [
      "yfinance.Ticker object <MSFT>\n"
     ]
    }
   ],
   "source": [
    "msft = yf.Ticker(\"MSFT\")\n",
    "print(msft)"
   ]
  },
  {
   "cell_type": "code",
   "execution_count": 3,
   "id": "d5e8b604",
   "metadata": {},
   "outputs": [
    {
     "data": {
      "text/html": [
       "<div>\n",
       "<style scoped>\n",
       "    .dataframe tbody tr th:only-of-type {\n",
       "        vertical-align: middle;\n",
       "    }\n",
       "\n",
       "    .dataframe tbody tr th {\n",
       "        vertical-align: top;\n",
       "    }\n",
       "\n",
       "    .dataframe thead th {\n",
       "        text-align: right;\n",
       "    }\n",
       "</style>\n",
       "<table border=\"1\" class=\"dataframe\">\n",
       "  <thead>\n",
       "    <tr style=\"text-align: right;\">\n",
       "      <th></th>\n",
       "      <th>2021-06-30</th>\n",
       "      <th>2020-06-30</th>\n",
       "      <th>2019-06-30</th>\n",
       "      <th>2018-06-30</th>\n",
       "    </tr>\n",
       "  </thead>\n",
       "  <tbody>\n",
       "    <tr>\n",
       "      <th>Research Development</th>\n",
       "      <td>20716000000.0</td>\n",
       "      <td>19269000000.0</td>\n",
       "      <td>16876000000.0</td>\n",
       "      <td>14726000000.0</td>\n",
       "    </tr>\n",
       "    <tr>\n",
       "      <th>Effect Of Accounting Charges</th>\n",
       "      <td>None</td>\n",
       "      <td>None</td>\n",
       "      <td>None</td>\n",
       "      <td>None</td>\n",
       "    </tr>\n",
       "    <tr>\n",
       "      <th>Income Before Tax</th>\n",
       "      <td>71102000000.0</td>\n",
       "      <td>53036000000.0</td>\n",
       "      <td>43688000000.0</td>\n",
       "      <td>36474000000.0</td>\n",
       "    </tr>\n",
       "    <tr>\n",
       "      <th>Minority Interest</th>\n",
       "      <td>None</td>\n",
       "      <td>None</td>\n",
       "      <td>None</td>\n",
       "      <td>None</td>\n",
       "    </tr>\n",
       "    <tr>\n",
       "      <th>Net Income</th>\n",
       "      <td>61271000000.0</td>\n",
       "      <td>44281000000.0</td>\n",
       "      <td>39240000000.0</td>\n",
       "      <td>16571000000.0</td>\n",
       "    </tr>\n",
       "    <tr>\n",
       "      <th>Selling General Administrative</th>\n",
       "      <td>25224000000.0</td>\n",
       "      <td>24523000000.0</td>\n",
       "      <td>23098000000.0</td>\n",
       "      <td>22223000000.0</td>\n",
       "    </tr>\n",
       "    <tr>\n",
       "      <th>Gross Profit</th>\n",
       "      <td>115856000000.0</td>\n",
       "      <td>96937000000.0</td>\n",
       "      <td>82933000000.0</td>\n",
       "      <td>72007000000.0</td>\n",
       "    </tr>\n",
       "    <tr>\n",
       "      <th>Ebit</th>\n",
       "      <td>69916000000.0</td>\n",
       "      <td>53145000000.0</td>\n",
       "      <td>42959000000.0</td>\n",
       "      <td>35058000000.0</td>\n",
       "    </tr>\n",
       "    <tr>\n",
       "      <th>Operating Income</th>\n",
       "      <td>69916000000.0</td>\n",
       "      <td>53145000000.0</td>\n",
       "      <td>42959000000.0</td>\n",
       "      <td>35058000000.0</td>\n",
       "    </tr>\n",
       "    <tr>\n",
       "      <th>Other Operating Expenses</th>\n",
       "      <td>None</td>\n",
       "      <td>None</td>\n",
       "      <td>None</td>\n",
       "      <td>None</td>\n",
       "    </tr>\n",
       "    <tr>\n",
       "      <th>Interest Expense</th>\n",
       "      <td>-2330000000.0</td>\n",
       "      <td>-2591000000.0</td>\n",
       "      <td>-2686000000.0</td>\n",
       "      <td>-2733000000.0</td>\n",
       "    </tr>\n",
       "    <tr>\n",
       "      <th>Extraordinary Items</th>\n",
       "      <td>None</td>\n",
       "      <td>None</td>\n",
       "      <td>None</td>\n",
       "      <td>None</td>\n",
       "    </tr>\n",
       "    <tr>\n",
       "      <th>Non Recurring</th>\n",
       "      <td>None</td>\n",
       "      <td>None</td>\n",
       "      <td>None</td>\n",
       "      <td>None</td>\n",
       "    </tr>\n",
       "    <tr>\n",
       "      <th>Other Items</th>\n",
       "      <td>None</td>\n",
       "      <td>None</td>\n",
       "      <td>None</td>\n",
       "      <td>None</td>\n",
       "    </tr>\n",
       "    <tr>\n",
       "      <th>Income Tax Expense</th>\n",
       "      <td>9831000000.0</td>\n",
       "      <td>8755000000.0</td>\n",
       "      <td>4448000000.0</td>\n",
       "      <td>19903000000.0</td>\n",
       "    </tr>\n",
       "    <tr>\n",
       "      <th>Total Revenue</th>\n",
       "      <td>168088000000.0</td>\n",
       "      <td>143015000000.0</td>\n",
       "      <td>125843000000.0</td>\n",
       "      <td>110360000000.0</td>\n",
       "    </tr>\n",
       "    <tr>\n",
       "      <th>Total Operating Expenses</th>\n",
       "      <td>98172000000.0</td>\n",
       "      <td>89870000000.0</td>\n",
       "      <td>82884000000.0</td>\n",
       "      <td>75302000000.0</td>\n",
       "    </tr>\n",
       "    <tr>\n",
       "      <th>Cost Of Revenue</th>\n",
       "      <td>52232000000.0</td>\n",
       "      <td>46078000000.0</td>\n",
       "      <td>42910000000.0</td>\n",
       "      <td>38353000000.0</td>\n",
       "    </tr>\n",
       "    <tr>\n",
       "      <th>Total Other Income Expense Net</th>\n",
       "      <td>1186000000.0</td>\n",
       "      <td>-109000000.0</td>\n",
       "      <td>729000000.0</td>\n",
       "      <td>1416000000.0</td>\n",
       "    </tr>\n",
       "    <tr>\n",
       "      <th>Discontinued Operations</th>\n",
       "      <td>None</td>\n",
       "      <td>None</td>\n",
       "      <td>None</td>\n",
       "      <td>None</td>\n",
       "    </tr>\n",
       "    <tr>\n",
       "      <th>Net Income From Continuing Ops</th>\n",
       "      <td>61271000000.0</td>\n",
       "      <td>44281000000.0</td>\n",
       "      <td>39240000000.0</td>\n",
       "      <td>16571000000.0</td>\n",
       "    </tr>\n",
       "    <tr>\n",
       "      <th>Net Income Applicable To Common Shares</th>\n",
       "      <td>61271000000.0</td>\n",
       "      <td>44281000000.0</td>\n",
       "      <td>39240000000.0</td>\n",
       "      <td>16571000000.0</td>\n",
       "    </tr>\n",
       "  </tbody>\n",
       "</table>\n",
       "</div>"
      ],
      "text/plain": [
       "                                            2021-06-30      2020-06-30  \\\n",
       "Research Development                     20716000000.0   19269000000.0   \n",
       "Effect Of Accounting Charges                      None            None   \n",
       "Income Before Tax                        71102000000.0   53036000000.0   \n",
       "Minority Interest                                 None            None   \n",
       "Net Income                               61271000000.0   44281000000.0   \n",
       "Selling General Administrative           25224000000.0   24523000000.0   \n",
       "Gross Profit                            115856000000.0   96937000000.0   \n",
       "Ebit                                     69916000000.0   53145000000.0   \n",
       "Operating Income                         69916000000.0   53145000000.0   \n",
       "Other Operating Expenses                          None            None   \n",
       "Interest Expense                         -2330000000.0   -2591000000.0   \n",
       "Extraordinary Items                               None            None   \n",
       "Non Recurring                                     None            None   \n",
       "Other Items                                       None            None   \n",
       "Income Tax Expense                        9831000000.0    8755000000.0   \n",
       "Total Revenue                           168088000000.0  143015000000.0   \n",
       "Total Operating Expenses                 98172000000.0   89870000000.0   \n",
       "Cost Of Revenue                          52232000000.0   46078000000.0   \n",
       "Total Other Income Expense Net            1186000000.0    -109000000.0   \n",
       "Discontinued Operations                           None            None   \n",
       "Net Income From Continuing Ops           61271000000.0   44281000000.0   \n",
       "Net Income Applicable To Common Shares   61271000000.0   44281000000.0   \n",
       "\n",
       "                                            2019-06-30      2018-06-30  \n",
       "Research Development                     16876000000.0   14726000000.0  \n",
       "Effect Of Accounting Charges                      None            None  \n",
       "Income Before Tax                        43688000000.0   36474000000.0  \n",
       "Minority Interest                                 None            None  \n",
       "Net Income                               39240000000.0   16571000000.0  \n",
       "Selling General Administrative           23098000000.0   22223000000.0  \n",
       "Gross Profit                             82933000000.0   72007000000.0  \n",
       "Ebit                                     42959000000.0   35058000000.0  \n",
       "Operating Income                         42959000000.0   35058000000.0  \n",
       "Other Operating Expenses                          None            None  \n",
       "Interest Expense                         -2686000000.0   -2733000000.0  \n",
       "Extraordinary Items                               None            None  \n",
       "Non Recurring                                     None            None  \n",
       "Other Items                                       None            None  \n",
       "Income Tax Expense                        4448000000.0   19903000000.0  \n",
       "Total Revenue                           125843000000.0  110360000000.0  \n",
       "Total Operating Expenses                 82884000000.0   75302000000.0  \n",
       "Cost Of Revenue                          42910000000.0   38353000000.0  \n",
       "Total Other Income Expense Net             729000000.0    1416000000.0  \n",
       "Discontinued Operations                           None            None  \n",
       "Net Income From Continuing Ops           39240000000.0   16571000000.0  \n",
       "Net Income Applicable To Common Shares   39240000000.0   16571000000.0  "
      ]
     },
     "execution_count": 3,
     "metadata": {},
     "output_type": "execute_result"
    }
   ],
   "source": [
    "msft.financials"
   ]
  },
  {
   "cell_type": "code",
   "execution_count": 4,
   "id": "7aa7976c",
   "metadata": {},
   "outputs": [],
   "source": [
    "hist = msft.history(period=\"5y\")"
   ]
  },
  {
   "cell_type": "code",
   "execution_count": 5,
   "id": "8790228a",
   "metadata": {},
   "outputs": [
    {
     "data": {
      "text/html": [
       "<div>\n",
       "<style scoped>\n",
       "    .dataframe tbody tr th:only-of-type {\n",
       "        vertical-align: middle;\n",
       "    }\n",
       "\n",
       "    .dataframe tbody tr th {\n",
       "        vertical-align: top;\n",
       "    }\n",
       "\n",
       "    .dataframe thead th {\n",
       "        text-align: right;\n",
       "    }\n",
       "</style>\n",
       "<table border=\"1\" class=\"dataframe\">\n",
       "  <thead>\n",
       "    <tr style=\"text-align: right;\">\n",
       "      <th></th>\n",
       "      <th>Open</th>\n",
       "      <th>High</th>\n",
       "      <th>Low</th>\n",
       "      <th>Close</th>\n",
       "      <th>Volume</th>\n",
       "      <th>Dividends</th>\n",
       "      <th>Stock Splits</th>\n",
       "    </tr>\n",
       "    <tr>\n",
       "      <th>Date</th>\n",
       "      <th></th>\n",
       "      <th></th>\n",
       "      <th></th>\n",
       "      <th></th>\n",
       "      <th></th>\n",
       "      <th></th>\n",
       "      <th></th>\n",
       "    </tr>\n",
       "  </thead>\n",
       "  <tbody>\n",
       "    <tr>\n",
       "      <th>2016-10-13</th>\n",
       "      <td>52.460465</td>\n",
       "      <td>53.015601</td>\n",
       "      <td>52.108877</td>\n",
       "      <td>52.664013</td>\n",
       "      <td>25313700</td>\n",
       "      <td>0.0</td>\n",
       "      <td>0</td>\n",
       "    </tr>\n",
       "    <tr>\n",
       "      <th>2016-10-14</th>\n",
       "      <td>52.849065</td>\n",
       "      <td>53.422709</td>\n",
       "      <td>52.849065</td>\n",
       "      <td>53.126633</td>\n",
       "      <td>27402500</td>\n",
       "      <td>0.0</td>\n",
       "      <td>0</td>\n",
       "    </tr>\n",
       "    <tr>\n",
       "      <th>2016-10-17</th>\n",
       "      <td>53.071121</td>\n",
       "      <td>53.163642</td>\n",
       "      <td>52.617757</td>\n",
       "      <td>52.941589</td>\n",
       "      <td>23830000</td>\n",
       "      <td>0.0</td>\n",
       "      <td>0</td>\n",
       "    </tr>\n",
       "    <tr>\n",
       "      <th>2016-10-18</th>\n",
       "      <td>53.228406</td>\n",
       "      <td>53.617003</td>\n",
       "      <td>53.117379</td>\n",
       "      <td>53.348686</td>\n",
       "      <td>19149500</td>\n",
       "      <td>0.0</td>\n",
       "      <td>0</td>\n",
       "    </tr>\n",
       "    <tr>\n",
       "      <th>2016-10-19</th>\n",
       "      <td>53.172897</td>\n",
       "      <td>53.515231</td>\n",
       "      <td>53.108132</td>\n",
       "      <td>53.228409</td>\n",
       "      <td>22878400</td>\n",
       "      <td>0.0</td>\n",
       "      <td>0</td>\n",
       "    </tr>\n",
       "  </tbody>\n",
       "</table>\n",
       "</div>"
      ],
      "text/plain": [
       "                 Open       High        Low      Close    Volume  Dividends  \\\n",
       "Date                                                                          \n",
       "2016-10-13  52.460465  53.015601  52.108877  52.664013  25313700        0.0   \n",
       "2016-10-14  52.849065  53.422709  52.849065  53.126633  27402500        0.0   \n",
       "2016-10-17  53.071121  53.163642  52.617757  52.941589  23830000        0.0   \n",
       "2016-10-18  53.228406  53.617003  53.117379  53.348686  19149500        0.0   \n",
       "2016-10-19  53.172897  53.515231  53.108132  53.228409  22878400        0.0   \n",
       "\n",
       "            Stock Splits  \n",
       "Date                      \n",
       "2016-10-13             0  \n",
       "2016-10-14             0  \n",
       "2016-10-17             0  \n",
       "2016-10-18             0  \n",
       "2016-10-19             0  "
      ]
     },
     "execution_count": 5,
     "metadata": {},
     "output_type": "execute_result"
    }
   ],
   "source": [
    "hist.head()"
   ]
  },
  {
   "cell_type": "code",
   "execution_count": 6,
   "id": "1007541f",
   "metadata": {},
   "outputs": [],
   "source": [
    "df_x = hist['Close']"
   ]
  },
  {
   "cell_type": "code",
   "execution_count": 7,
   "id": "3ecb1c1b",
   "metadata": {},
   "outputs": [
    {
     "data": {
      "text/plain": [
       "[<matplotlib.lines.Line2D at 0x18cf493eeb0>]"
      ]
     },
     "execution_count": 7,
     "metadata": {},
     "output_type": "execute_result"
    },
    {
     "data": {
      "image/png": "[encoded data removed]",
      "text/plain": [
       "<Figure size 432x288 with 1 Axes>"
      ]
     },
     "metadata": {
      "needs_background": "light"
     },
     "output_type": "display_data"
    }
   ],
   "source": [
    "import matplotlib.pyplot as plt\n",
    "plt.plot(df_x)"
   ]
  },
  {
   "cell_type": "code",
   "execution_count": 8,
   "id": "617d9aec",
   "metadata": {},
   "outputs": [],
   "source": [
    "from sklearn.preprocessing import MinMaxScaler\n",
    "scaler=MinMaxScaler(feature_range=(0,1))\n",
    "df_x=scaler.fit_transform(np.array(df_x).reshape(-1,1))"
   ]
  },
  {
   "cell_type": "code",
   "execution_count": 17,
   "id": "17d73b01",
   "metadata": {},
   "outputs": [],
   "source": [
    "##splitting dataset into train and test split\n",
    "training_size=int(len(df_x)*0.65)\n",
    "# test_size=len(df_x)-len(training_size)\n",
    "train_data,test_data=df_x[0:training_size,:],df_x[training_size:len(df_x),:1]"
   ]
  },
  {
   "cell_type": "code",
   "execution_count": 21,
   "id": "22a035ce",
   "metadata": {},
   "outputs": [],
   "source": [
    "import numpy\n",
    "# convert an array of values into a dataset matrix\n",
    "def create_dataset(dataset, time_step=1):\n",
    "\tdataX, dataY = [], []\n",
    "\tfor i in range(len(dataset)-time_step-1):\n",
    "\t\ta = dataset[i:(i+time_step), 0]   ###i=0, 0,1,2,3-----99   100 \n",
    "\t\tdataX.append(a)\n",
    "\t\tdataY.append(dataset[i + time_step, 0])\n",
    "\treturn numpy.array(dataX), numpy.array(dataY)"
   ]
  },
  {
   "cell_type": "code",
   "execution_count": 19,
   "id": "785fca94",
   "metadata": {},
   "outputs": [],
   "source": [
    "# reshape into X=t,t+1,t+2,t+3 and Y=t+4\n",
    "time_step = 100\n",
    "X_train, y_train = create_dataset(train_data, time_step)\n",
    "X_test, ytest = create_dataset(test_data, time_step)"
   ]
  },
  {
   "cell_type": "code",
   "execution_count": 20,
   "id": "a2c90535",
   "metadata": {},
   "outputs": [
    {
     "name": "stdout",
     "output_type": "stream",
     "text": [
      "(716, 100)\n",
      "(716,)\n"
     ]
    },
    {
     "data": {
      "text/plain": [
       "(None, None)"
      ]
     },
     "execution_count": 20,
     "metadata": {},
     "output_type": "execute_result"
    }
   ],
   "source": [
    "print(X_train.shape), print(y_train.shape)"
   ]
  },
  {
   "cell_type": "code",
   "execution_count": 21,
   "id": "f3c184b7",
   "metadata": {},
   "outputs": [],
   "source": [
    "# reshape input to be [samples, time steps, features] which is required for LSTM\n",
    "X_train =X_train.reshape(X_train.shape[0],X_train.shape[1] , 1)\n",
    "X_test = X_test.reshape(X_test.shape[0],X_test.shape[1] , 1)"
   ]
  },
  {
   "cell_type": "code",
   "execution_count": 9,
   "id": "c0d40d94",
   "metadata": {},
   "outputs": [],
   "source": [
    "### Create the Stacked LSTM model\n",
    "from tensorflow.keras.models import Sequential\n",
    "from tensorflow.keras.layers import Dense\n",
    "from tensorflow.keras.layers import LSTM"
   ]
  },
  {
   "cell_type": "code",
   "execution_count": 10,
   "id": "8d841047",
   "metadata": {},
   "outputs": [],
   "source": [
    "model=Sequential()\n",
    "model.add(LSTM(50,return_sequences=True,input_shape=(100,1)))\n",
    "model.add(LSTM(50,return_sequences=True))\n",
    "model.add(LSTM(50))\n",
    "model.add(Dense(1))\n",
    "model.compile(loss='mean_squared_error',optimizer='adam')"
   ]
  },
  {
   "cell_type": "code",
   "execution_count": 11,
   "id": "9b50250b",
   "metadata": {},
   "outputs": [
    {
     "name": "stdout",
     "output_type": "stream",
     "text": [
      "Model: \"sequential\"\n",
      "_________________________________________________________________\n",
      "Layer (type)                 Output Shape              Param #   \n",
      "=================================================================\n",
      "lstm (LSTM)                  (None, 100, 50)           10400     \n",
      "_________________________________________________________________\n",
      "lstm_1 (LSTM)                (None, 100, 50)           20200     \n",
      "_________________________________________________________________\n",
      "lstm_2 (LSTM)                (None, 50)                20200     \n",
      "_________________________________________________________________\n",
      "dense (Dense)                (None, 1)                 51        \n",
      "=================================================================\n",
      "Total params: 50,851\n",
      "Trainable params: 50,851\n",
      "Non-trainable params: 0\n",
      "_________________________________________________________________\n"
     ]
    }
   ],
   "source": [
    "model.summary()"
   ]
  },
  {
   "cell_type": "code",
   "execution_count": 28,
   "id": "86baf196",
   "metadata": {},
   "outputs": [
    {
     "name": "stdout",
     "output_type": "stream",
     "text": [
      "Epoch 1/100\n",
      "12/12 [==============================] - 4s 117ms/step - loss: 0.0111 - val_loss: 0.1035\n",
      "Epoch 2/100\n",
      "12/12 [==============================] - 1s 66ms/step - loss: 0.0024 - val_loss: 0.0089\n",
      "Epoch 3/100\n",
      "12/12 [==============================] - 1s 63ms/step - loss: 5.1507e-04 - val_loss: 0.0079\n",
      "Epoch 4/100\n",
      "12/12 [==============================] - 1s 64ms/step - loss: 2.8816e-04 - val_loss: 0.0025\n",
      "Epoch 5/100\n",
      "12/12 [==============================] - 1s 64ms/step - loss: 1.8068e-04 - val_loss: 0.0012\n",
      "Epoch 6/100\n",
      "12/12 [==============================] - 1s 63ms/step - loss: 1.4986e-04 - val_loss: 0.0012\n",
      "Epoch 7/100\n",
      "12/12 [==============================] - 1s 62ms/step - loss: 1.2711e-04 - val_loss: 0.0012\n",
      "Epoch 8/100\n",
      "12/12 [==============================] - 1s 64ms/step - loss: 1.3149e-04 - val_loss: 0.0012\n",
      "Epoch 9/100\n",
      "12/12 [==============================] - 1s 63ms/step - loss: 1.1987e-04 - val_loss: 0.0012\n",
      "Epoch 10/100\n",
      "12/12 [==============================] - 1s 63ms/step - loss: 1.1938e-04 - val_loss: 0.0012\n",
      "Epoch 11/100\n",
      "12/12 [==============================] - 1s 62ms/step - loss: 1.2194e-04 - val_loss: 0.0014\n",
      "Epoch 12/100\n",
      "12/12 [==============================] - 1s 63ms/step - loss: 1.2104e-04 - val_loss: 0.0011\n",
      "Epoch 13/100\n",
      "12/12 [==============================] - 1s 63ms/step - loss: 1.2108e-04 - val_loss: 0.0011\n",
      "Epoch 14/100\n",
      "12/12 [==============================] - 1s 63ms/step - loss: 1.2109e-04 - val_loss: 0.0012\n",
      "Epoch 15/100\n",
      "12/12 [==============================] - 1s 63ms/step - loss: 1.2081e-04 - val_loss: 0.0012\n",
      "Epoch 16/100\n",
      "12/12 [==============================] - 1s 63ms/step - loss: 1.2355e-04 - val_loss: 0.0012\n",
      "Epoch 17/100\n",
      "12/12 [==============================] - 1s 63ms/step - loss: 1.2561e-04 - val_loss: 0.0013\n",
      "Epoch 18/100\n",
      "12/12 [==============================] - 1s 62ms/step - loss: 1.1765e-04 - val_loss: 0.0011\n",
      "Epoch 19/100\n",
      "12/12 [==============================] - 1s 64ms/step - loss: 1.1818e-04 - val_loss: 0.0011\n",
      "Epoch 20/100\n",
      "12/12 [==============================] - 1s 63ms/step - loss: 1.2112e-04 - val_loss: 0.0011\n",
      "Epoch 21/100\n",
      "12/12 [==============================] - 1s 63ms/step - loss: 1.2000e-04 - val_loss: 0.0012\n",
      "Epoch 22/100\n",
      "12/12 [==============================] - 1s 63ms/step - loss: 1.1685e-04 - val_loss: 0.0011\n",
      "Epoch 23/100\n",
      "12/12 [==============================] - 1s 66ms/step - loss: 1.1796e-04 - val_loss: 0.0010\n",
      "Epoch 24/100\n",
      "12/12 [==============================] - 1s 64ms/step - loss: 1.1884e-04 - val_loss: 0.0011\n",
      "Epoch 25/100\n",
      "12/12 [==============================] - 1s 63ms/step - loss: 1.2271e-04 - val_loss: 0.0012\n",
      "Epoch 26/100\n",
      "12/12 [==============================] - 1s 63ms/step - loss: 1.2402e-04 - val_loss: 0.0010\n",
      "Epoch 27/100\n",
      "12/12 [==============================] - 1s 64ms/step - loss: 1.1612e-04 - val_loss: 0.0010\n",
      "Epoch 28/100\n",
      "12/12 [==============================] - 1s 63ms/step - loss: 1.1389e-04 - val_loss: 0.0010\n",
      "Epoch 29/100\n",
      "12/12 [==============================] - 1s 63ms/step - loss: 1.1243e-04 - val_loss: 0.0012\n",
      "Epoch 30/100\n",
      "12/12 [==============================] - 1s 63ms/step - loss: 1.2249e-04 - val_loss: 9.9754e-04\n",
      "Epoch 31/100\n",
      "12/12 [==============================] - 1s 63ms/step - loss: 1.1488e-04 - val_loss: 0.0012\n",
      "Epoch 32/100\n",
      "12/12 [==============================] - 1s 63ms/step - loss: 1.1988e-04 - val_loss: 9.9257e-04\n",
      "Epoch 33/100\n",
      "12/12 [==============================] - 1s 63ms/step - loss: 1.2420e-04 - val_loss: 0.0010\n",
      "Epoch 34/100\n",
      "12/12 [==============================] - 1s 63ms/step - loss: 1.1466e-04 - val_loss: 9.9981e-04\n",
      "Epoch 35/100\n",
      "12/12 [==============================] - 1s 69ms/step - loss: 1.1072e-04 - val_loss: 0.0010\n",
      "Epoch 36/100\n",
      "12/12 [==============================] - 1s 65ms/step - loss: 1.1939e-04 - val_loss: 9.8501e-04\n",
      "Epoch 37/100\n",
      "12/12 [==============================] - 1s 63ms/step - loss: 1.1428e-04 - val_loss: 9.8867e-04\n",
      "Epoch 38/100\n",
      "12/12 [==============================] - 1s 63ms/step - loss: 1.0731e-04 - val_loss: 9.7496e-04\n",
      "Epoch 39/100\n",
      "12/12 [==============================] - 1s 63ms/step - loss: 1.0746e-04 - val_loss: 9.7020e-04\n",
      "Epoch 40/100\n",
      "12/12 [==============================] - 1s 62ms/step - loss: 1.1113e-04 - val_loss: 9.8632e-04\n",
      "Epoch 41/100\n",
      "12/12 [==============================] - 1s 63ms/step - loss: 1.1928e-04 - val_loss: 9.3998e-04\n",
      "Epoch 42/100\n",
      "12/12 [==============================] - 1s 63ms/step - loss: 1.1457e-04 - val_loss: 0.0013\n",
      "Epoch 43/100\n",
      "12/12 [==============================] - 1s 63ms/step - loss: 1.1953e-04 - val_loss: 0.0010\n",
      "Epoch 44/100\n",
      "12/12 [==============================] - 1s 64ms/step - loss: 1.1024e-04 - val_loss: 0.0010\n",
      "Epoch 45/100\n",
      "12/12 [==============================] - 1s 63ms/step - loss: 1.1742e-04 - val_loss: 0.0011\n",
      "Epoch 46/100\n",
      "12/12 [==============================] - 1s 63ms/step - loss: 1.5926e-04 - val_loss: 0.0024\n",
      "Epoch 47/100\n",
      "12/12 [==============================] - 1s 64ms/step - loss: 1.7244e-04 - val_loss: 0.0013\n",
      "Epoch 48/100\n",
      "12/12 [==============================] - 1s 63ms/step - loss: 1.0848e-04 - val_loss: 8.9945e-04\n",
      "Epoch 49/100\n",
      "12/12 [==============================] - 1s 63ms/step - loss: 1.0548e-04 - val_loss: 8.8174e-04\n",
      "Epoch 50/100\n",
      "12/12 [==============================] - 1s 63ms/step - loss: 1.0723e-04 - val_loss: 0.0010\n",
      "Epoch 51/100\n",
      "12/12 [==============================] - 1s 63ms/step - loss: 1.0693e-04 - val_loss: 8.8693e-04\n",
      "Epoch 52/100\n",
      "12/12 [==============================] - 1s 63ms/step - loss: 1.0303e-04 - val_loss: 0.0010\n",
      "Epoch 53/100\n",
      "12/12 [==============================] - 1s 62ms/step - loss: 1.0306e-04 - val_loss: 8.4494e-04\n",
      "Epoch 54/100\n",
      "12/12 [==============================] - 1s 62ms/step - loss: 1.0570e-04 - val_loss: 0.0010\n",
      "Epoch 55/100\n",
      "12/12 [==============================] - 1s 63ms/step - loss: 1.2237e-04 - val_loss: 8.3300e-04\n",
      "Epoch 56/100\n",
      "12/12 [==============================] - 1s 62ms/step - loss: 1.1218e-04 - val_loss: 9.0161e-04\n",
      "Epoch 57/100\n",
      "12/12 [==============================] - 1s 62ms/step - loss: 1.2459e-04 - val_loss: 8.3053e-04\n",
      "Epoch 58/100\n",
      "12/12 [==============================] - 1s 63ms/step - loss: 1.0023e-04 - val_loss: 8.2234e-04\n",
      "Epoch 59/100\n",
      "12/12 [==============================] - 1s 62ms/step - loss: 1.0118e-04 - val_loss: 8.1665e-04\n",
      "Epoch 60/100\n",
      "12/12 [==============================] - 1s 62ms/step - loss: 1.0642e-04 - val_loss: 8.3259e-04\n",
      "Epoch 61/100\n",
      "12/12 [==============================] - 1s 63ms/step - loss: 1.0506e-04 - val_loss: 8.4934e-04\n",
      "Epoch 62/100\n",
      "12/12 [==============================] - 1s 64ms/step - loss: 1.0134e-04 - val_loss: 0.0010\n",
      "Epoch 63/100\n",
      "12/12 [==============================] - 1s 63ms/step - loss: 1.2451e-04 - val_loss: 8.0654e-04\n",
      "Epoch 64/100\n",
      "12/12 [==============================] - 1s 62ms/step - loss: 9.6023e-05 - val_loss: 8.1794e-04\n",
      "Epoch 65/100\n",
      "12/12 [==============================] - 1s 64ms/step - loss: 9.8033e-05 - val_loss: 8.7868e-04\n",
      "Epoch 66/100\n",
      "12/12 [==============================] - 1s 65ms/step - loss: 1.1115e-04 - val_loss: 7.5583e-04\n",
      "Epoch 67/100\n",
      "12/12 [==============================] - 1s 63ms/step - loss: 1.3328e-04 - val_loss: 0.0015\n",
      "Epoch 68/100\n",
      "12/12 [==============================] - 1s 63ms/step - loss: 1.3659e-04 - val_loss: 8.8222e-04\n",
      "Epoch 69/100\n",
      "12/12 [==============================] - 1s 63ms/step - loss: 1.1680e-04 - val_loss: 7.5422e-04\n",
      "Epoch 70/100\n",
      "12/12 [==============================] - 1s 63ms/step - loss: 9.1560e-05 - val_loss: 8.5200e-04\n",
      "Epoch 71/100\n",
      "12/12 [==============================] - 1s 63ms/step - loss: 9.4067e-05 - val_loss: 8.6728e-04\n",
      "Epoch 72/100\n",
      "12/12 [==============================] - 1s 63ms/step - loss: 9.0323e-05 - val_loss: 7.3393e-04\n",
      "Epoch 73/100\n",
      "12/12 [==============================] - 1s 62ms/step - loss: 9.9680e-05 - val_loss: 7.5301e-04\n",
      "Epoch 74/100\n",
      "12/12 [==============================] - 1s 63ms/step - loss: 9.9015e-05 - val_loss: 7.2552e-04\n",
      "Epoch 75/100\n",
      "12/12 [==============================] - 1s 62ms/step - loss: 8.8802e-05 - val_loss: 6.9464e-04\n",
      "Epoch 76/100\n",
      "12/12 [==============================] - 1s 62ms/step - loss: 9.1104e-05 - val_loss: 8.4584e-04\n",
      "Epoch 77/100\n",
      "12/12 [==============================] - 1s 62ms/step - loss: 9.0541e-05 - val_loss: 7.1850e-04\n"
     ]
    },
    {
     "name": "stdout",
     "output_type": "stream",
     "text": [
      "Epoch 78/100\n",
      "12/12 [==============================] - 1s 63ms/step - loss: 9.5310e-05 - val_loss: 9.4373e-04\n",
      "Epoch 79/100\n",
      "12/12 [==============================] - 1s 62ms/step - loss: 9.3954e-05 - val_loss: 8.3938e-04\n",
      "Epoch 80/100\n",
      "12/12 [==============================] - 1s 62ms/step - loss: 9.6114e-05 - val_loss: 6.7657e-04\n",
      "Epoch 81/100\n",
      "12/12 [==============================] - 1s 62ms/step - loss: 8.8134e-05 - val_loss: 7.9083e-04\n",
      "Epoch 82/100\n",
      "12/12 [==============================] - 1s 62ms/step - loss: 1.0205e-04 - val_loss: 8.8139e-04\n",
      "Epoch 83/100\n",
      "12/12 [==============================] - 1s 63ms/step - loss: 1.0598e-04 - val_loss: 6.8093e-04\n",
      "Epoch 84/100\n",
      "12/12 [==============================] - 1s 63ms/step - loss: 8.9960e-05 - val_loss: 7.0494e-04\n",
      "Epoch 85/100\n",
      "12/12 [==============================] - 1s 62ms/step - loss: 8.7533e-05 - val_loss: 8.1581e-04\n",
      "Epoch 86/100\n",
      "12/12 [==============================] - 1s 62ms/step - loss: 8.5776e-05 - val_loss: 9.9275e-04\n",
      "Epoch 87/100\n",
      "12/12 [==============================] - 1s 67ms/step - loss: 9.3195e-05 - val_loss: 0.0011\n",
      "Epoch 88/100\n",
      "12/12 [==============================] - 1s 64ms/step - loss: 9.4986e-05 - val_loss: 8.7132e-04\n",
      "Epoch 89/100\n",
      "12/12 [==============================] - 1s 63ms/step - loss: 1.0332e-04 - val_loss: 6.2332e-04\n",
      "Epoch 90/100\n",
      "12/12 [==============================] - 1s 63ms/step - loss: 9.0720e-05 - val_loss: 7.5002e-04\n",
      "Epoch 91/100\n",
      "12/12 [==============================] - 1s 63ms/step - loss: 8.3010e-05 - val_loss: 6.2590e-04\n",
      "Epoch 92/100\n",
      "12/12 [==============================] - 1s 63ms/step - loss: 8.1241e-05 - val_loss: 7.4241e-04\n",
      "Epoch 93/100\n",
      "12/12 [==============================] - 1s 63ms/step - loss: 8.0494e-05 - val_loss: 6.9750e-04\n",
      "Epoch 94/100\n",
      "12/12 [==============================] - 1s 62ms/step - loss: 8.1051e-05 - val_loss: 6.1301e-04\n",
      "Epoch 95/100\n",
      "12/12 [==============================] - 1s 62ms/step - loss: 8.6570e-05 - val_loss: 7.4698e-04\n",
      "Epoch 96/100\n",
      "12/12 [==============================] - 1s 63ms/step - loss: 9.2208e-05 - val_loss: 6.8977e-04\n",
      "Epoch 97/100\n",
      "12/12 [==============================] - 1s 64ms/step - loss: 8.3066e-05 - val_loss: 0.0016\n",
      "Epoch 98/100\n",
      "12/12 [==============================] - 1s 63ms/step - loss: 8.1269e-05 - val_loss: 7.2941e-04\n",
      "Epoch 99/100\n",
      "12/12 [==============================] - 1s 63ms/step - loss: 8.6584e-05 - val_loss: 7.5690e-04\n",
      "Epoch 100/100\n",
      "12/12 [==============================] - 1s 63ms/step - loss: 7.8436e-05 - val_loss: 6.3427e-04\n"
     ]
    },
    {
     "data": {
      "text/plain": [
       "<keras.callbacks.History at 0x19f2893dfd0>"
      ]
     },
     "execution_count": 28,
     "metadata": {},
     "output_type": "execute_result"
    }
   ],
   "source": [
    "model.fit(X_train,y_train,validation_data=(X_test,ytest),epochs=100,batch_size=64,verbose=1)"
   ]
  },
  {
   "cell_type": "code",
   "execution_count": 29,
   "id": "49769c64",
   "metadata": {},
   "outputs": [],
   "source": [
    "### Lets Do the prediction and check performance metrics\n",
    "train_predict=model.predict(X_train)\n",
    "test_predict=model.predict(X_test)"
   ]
  },
  {
   "cell_type": "code",
   "execution_count": 30,
   "id": "fcb75c06",
   "metadata": {},
   "outputs": [],
   "source": [
    "##Transformback to original form\n",
    "train_predict=scaler.inverse_transform(train_predict)\n",
    "test_predict=scaler.inverse_transform(test_predict)"
   ]
  },
  {
   "cell_type": "code",
   "execution_count": 31,
   "id": "ec7e8c6c",
   "metadata": {},
   "outputs": [
    {
     "data": {
      "text/plain": [
       "102.76624163133822"
      ]
     },
     "execution_count": 31,
     "metadata": {},
     "output_type": "execute_result"
    }
   ],
   "source": [
    "### Calculate RMSE performance metrics\n",
    "import math\n",
    "from sklearn.metrics import mean_squared_error\n",
    "math.sqrt(mean_squared_error(y_train,train_predict))"
   ]
  },
  {
   "cell_type": "code",
   "execution_count": 32,
   "id": "685ea231",
   "metadata": {},
   "outputs": [
    {
     "data": {
      "text/plain": [
       "237.39348693373665"
      ]
     },
     "execution_count": 32,
     "metadata": {},
     "output_type": "execute_result"
    }
   ],
   "source": [
    "### Test Data RMSE\n",
    "math.sqrt(mean_squared_error(ytest,test_predict))"
   ]
  },
  {
   "cell_type": "code",
   "execution_count": 36,
   "id": "3081fb08",
   "metadata": {},
   "outputs": [
    {
     "data": {
      "image/png": "[encoded data removed]",
      "text/plain": [
       "<Figure size 432x288 with 1 Axes>"
      ]
     },
     "metadata": {
      "needs_background": "light"
     },
     "output_type": "display_data"
    }
   ],
   "source": [
    "### Plotting \n",
    "# shift train predictions for plotting\n",
    "look_back=100\n",
    "trainPredictPlot = numpy.empty_like(df_x)\n",
    "trainPredictPlot[:, :] = np.nan\n",
    "trainPredictPlot[look_back:len(train_predict)+look_back, :] = train_predict\n",
    "# shift test predictions for plotting\n",
    "testPredictPlot = numpy.empty_like(df_x)\n",
    "testPredictPlot[:, :] = numpy.nan\n",
    "testPredictPlot[len(train_predict)+(look_back*2)+1:len(df_x)-1, :] = test_predict\n",
    "# plot baseline and predictions\n",
    "plt.plot(scaler.inverse_transform(df_x))\n",
    "plt.plot(trainPredictPlot)\n",
    "plt.plot(testPredictPlot)\n",
    "plt.show()"
   ]
  },
  {
   "cell_type": "code",
   "execution_count": 38,
   "id": "934eb14a",
   "metadata": {},
   "outputs": [],
   "source": [
    "model.save_weights('./checkpoints/my_checkpoint')"
   ]
  },
  {
   "cell_type": "code",
   "execution_count": 12,
   "id": "a67518f0",
   "metadata": {},
   "outputs": [
    {
     "data": {
      "text/plain": [
       "<tensorflow.python.training.tracking.util.CheckpointLoadStatus at 0x18cfd65fcd0>"
      ]
     },
     "execution_count": 12,
     "metadata": {},
     "output_type": "execute_result"
    }
   ],
   "source": [
    "model.load_weights('./checkpoints/my_checkpoint')\n",
    "# loss, acc = model.evaluate(test_images, test_labels, verbose=2)\n",
    "# print(\"Restored model, accuracy: {:5.2f}%\".format(100 * acc))\n"
   ]
  },
  {
   "cell_type": "markdown",
   "id": "9f24cdf1",
   "metadata": {},
   "source": [
    "## Testing the model on Apple data"
   ]
  },
  {
   "cell_type": "code",
   "execution_count": 17,
   "id": "807a296d",
   "metadata": {},
   "outputs": [],
   "source": [
    "aapl = yf.Ticker(\"AAPL\")"
   ]
  },
  {
   "cell_type": "code",
   "execution_count": 18,
   "id": "824d630f",
   "metadata": {},
   "outputs": [],
   "source": [
    "hist_a = aapl.history(period=\"1y\")"
   ]
  },
  {
   "cell_type": "code",
   "execution_count": 30,
   "id": "a360c588",
   "metadata": {},
   "outputs": [],
   "source": [
    "df_x_a_1 = hist_a['Close']"
   ]
  },
  {
   "cell_type": "code",
   "execution_count": 20,
   "id": "432b7b27",
   "metadata": {},
   "outputs": [
    {
     "data": {
      "text/plain": [
       "[<matplotlib.lines.Line2D at 0x18cfe96ff10>]"
      ]
     },
     "execution_count": 20,
     "metadata": {},
     "output_type": "execute_result"
    },
    {
     "data": {
      "image/png": "[encoded data removed]",
      "text/plain": [
       "<Figure size 432x288 with 1 Axes>"
      ]
     },
     "metadata": {
      "needs_background": "light"
     },
     "output_type": "display_data"
    }
   ],
   "source": [
    "plt.plot(df_x_a)"
   ]
  },
  {
   "cell_type": "code",
   "execution_count": 22,
   "id": "390f3afd",
   "metadata": {},
   "outputs": [],
   "source": [
    "from sklearn.preprocessing import MinMaxScaler\n",
    "scaler=MinMaxScaler(feature_range=(0,1))\n",
    "df_x_a=scaler.fit_transform(np.array(df_x_a).reshape(-1,1))"
   ]
  },
  {
   "cell_type": "code",
   "execution_count": 23,
   "id": "0952a950",
   "metadata": {},
   "outputs": [],
   "source": [
    "time_step = 100\n",
    "x,y = create_dataset(df_x_a, time_step)"
   ]
  },
  {
   "cell_type": "code",
   "execution_count": 24,
   "id": "28f6f5a8",
   "metadata": {},
   "outputs": [],
   "source": [
    "x =x.reshape(x.shape[0],x.shape[1] , 1)"
   ]
  },
  {
   "cell_type": "code",
   "execution_count": 25,
   "id": "24ae4683",
   "metadata": {},
   "outputs": [
    {
     "data": {
      "text/plain": [
       "(151, 100, 1)"
      ]
     },
     "execution_count": 25,
     "metadata": {},
     "output_type": "execute_result"
    }
   ],
   "source": [
    "x.shape"
   ]
  },
  {
   "cell_type": "code",
   "execution_count": 27,
   "id": "91c3b181",
   "metadata": {},
   "outputs": [],
   "source": [
    "y_pred=model.predict(x)"
   ]
  },
  {
   "cell_type": "code",
   "execution_count": 28,
   "id": "5412b466",
   "metadata": {},
   "outputs": [],
   "source": [
    "y_pred=scaler.inverse_transform(y_pred)"
   ]
  },
  {
   "cell_type": "code",
   "execution_count": 36,
   "id": "71cae05e",
   "metadata": {},
   "outputs": [
    {
     "data": {
      "text/plain": [
       "252"
      ]
     },
     "execution_count": 36,
     "metadata": {},
     "output_type": "execute_result"
    }
   ],
   "source": [
    "len(df_x_a_1)"
   ]
  },
  {
   "cell_type": "code",
   "execution_count": 29,
   "id": "b2dc0ff0",
   "metadata": {},
   "outputs": [
    {
     "data": {
      "text/plain": [
       "135.65150700279224"
      ]
     },
     "execution_count": 29,
     "metadata": {},
     "output_type": "execute_result"
    }
   ],
   "source": [
    "import math\n",
    "from sklearn.metrics import mean_squared_error\n",
    "math.sqrt(mean_squared_error(y,y_pred))"
   ]
  },
  {
   "cell_type": "code",
   "execution_count": 38,
   "id": "3846fd87",
   "metadata": {},
   "outputs": [
    {
     "data": {
      "text/plain": [
       "(252, 1)"
      ]
     },
     "execution_count": 38,
     "metadata": {},
     "output_type": "execute_result"
    }
   ],
   "source": [
    "df_x_a_1=np.array(df_x_a_1).reshape(-1,1)\n",
    "df_x_a_1.shape"
   ]
  },
  {
   "cell_type": "code",
   "execution_count": 68,
   "id": "2a579ddc",
   "metadata": {},
   "outputs": [
    {
     "data": {
      "image/png": "[encoded data removed]",
      "text/plain": [
       "<Figure size 432x288 with 1 Axes>"
      ]
     },
     "metadata": {
      "needs_background": "light"
     },
     "output_type": "display_data"
    }
   ],
   "source": [
    "look_back=100\n",
    "# shift test predictions for plotting\n",
    "testPredictPlot = numpy.empty_like(df_x_a_1)\n",
    "testPredictPlot[:, :] = numpy.nan\n",
    "testPredictPlot[look_back:len(y_pred)+look_back, :] = y_pred\n",
    "# plot baseline and predictions\n",
    "plt.plot(df_x_a_1)\n",
    "plt.plot(testPredictPlot)\n",
    "plt.show()"
   ]
  },
  {
   "cell_type": "code",
   "execution_count": null,
   "id": "36b40427",
   "metadata": {},
   "outputs": [],
   "source": [
    "testPredictPlot[len(train_predict)+(look_back*2)+1:len(df_x)-1, :] = test_predict"
   ]
  }
 ],
 "metadata": {
  "kernelspec": {
   "display_name": "Python 3 (ipykernel)",
   "language": "python",
   "name": "python3"
  },
  "language_info": {
   "codemirror_mode": {
    "name": "ipython",
    "version": 3
   },
   "file_extension": ".py",
   "mimetype": "text/x-python",
   "name": "python",
   "nbconvert_exporter": "python",
   "pygments_lexer": "ipython3",
   "version": "3.8.11"
  }
 },
 "nbformat": 4,
 "nbformat_minor": 5
}
